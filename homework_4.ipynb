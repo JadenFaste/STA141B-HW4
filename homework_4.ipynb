{
 "cells": [
  {
   "cell_type": "markdown",
   "id": "7b4bee3a",
   "metadata": {
    "tags": [
     "header"
    ]
   },
   "source": [
    "# STA 141B Assignment 4\n",
    "\n",
    "Due __March 8, 2024__ by __11:59pm__. Submit your work by uploading it to Gradescope through Canvas.\n",
    "\n",
    "Instructions:\n",
    "\n",
    "1. Provide your solutions in new cells following each exercise description. Create as many new cells as necessary. Use code cells for your Python scripts and Markdown cells for explanatory text or answers to non-coding questions. Answer all textual questions in complete sentences.\n",
    "2. The use of assistive tools is permitted, but must be indicated. You will be graded on you proficiency in coding. Produce high quality code by adhering to proper programming principles. \n",
    "3. Export the .jpynb as .pdf and submit it on Gradescope in time. To facilitate grading, indicate the area of the solution on the submission. Submissions without indication will be marked down. No late submissions accepted. \n",
    "4. If test cases are given, your solution must be in the same format. \n",
    "5. The total number of points is 10. "
   ]
  },
  {
   "cell_type": "markdown",
   "id": "17c77449",
   "metadata": {
    "tags": [
     "exercise"
    ]
   },
   "source": [
    "__(a, i)__ Write a function that retrieves all links to movies in the database by scraping the _alphabetical_ section on [imsdb.com](https://imsdb.com/) and retrieve the links. _How many links did you find?_ __(ii)__ Write a function `fetch_script` that, given the link of a movie retrieved in (i), returns a dictionary that contains all relevant information of the movie: \n",
    "\n",
    "```python\n",
    "fetch_script('/Movie Scripts/10 Things I Hate About You Script.html')\n",
    "\n",
    ">>> {'title': '10 Things I Hate About You',\n",
    "     'writers': ['Karen McCullah Lutz', 'Kirsten Smith', 'William Shakespeare'],\n",
    "     'genres': ['Comedy', 'Romance'],\n",
    "     'date': 1997,\n",
    "     'script': '...'}\n",
    "```\n",
    "\n",
    "The `script` field contains a string of the scraped script. Retrieve the information for all movies. _How many scripts did you retrieve?_"
   ]
  },
  {
   "cell_type": "code",
   "execution_count": 15,
   "id": "4ea7c5de954da129",
   "metadata": {
    "ExecuteTime": {
     "end_time": "2024-03-07T06:19:37.887620800Z",
     "start_time": "2024-03-07T06:19:33.671954900Z"
    },
    "collapsed": false
   },
   "outputs": [],
   "source": [
    "import requests\n",
    "import lxml.html as lx\n",
    "\n",
    "link_end = ['0'] + [chr(char) for char in range(ord('a'), ord('z') + 1)]\n",
    "url = 'https://imsdb.com/alphebetical/{}'\n",
    "script_url = 'https://imsdb.com/Movie%20Scripts'\n",
    "all_links = []\n",
    "def alphabetical():\n",
    "    for character in link_end:\n",
    "        current_url = url.format(character)\n",
    "        results = requests.get(current_url, params=None)\n",
    "        html = lx.fromstring(results.text)\n",
    "        links = html.xpath('//td[@valign=\"top\"]//a/@href')\n",
    "        for link in links[60:]:\n",
    "            movie = script_url + link.replace(' ','%20')\n",
    "            all_links.append(movie)\n",
    "    return all_links\n",
    "\n",
    "links = alphabetical()\n",
    "for link in links:\n",
    "    print(link)"
   ]
  },
  {
   "cell_type": "code",
   "execution_count": 21,
   "id": "92dccea0",
   "metadata": {},
   "outputs": [
    {
     "name": "stdout",
     "output_type": "stream",
     "text": [
      "title: First Cow Script at IMSDb.\n",
      "writers: ['Jon Raymond', 'Kelly Reichardt']\n",
      "genre: ['Drama', 'Western']\n",
      "script_date: N/A\n",
      "movie_release_date: August 2019\n",
      "\n",
      "Read \"First Cow\" Script\n",
      "\n",
      "\n",
      "\n",
      "\n",
      "\n",
      "\n",
      "User Comments for First Cow\n",
      "\n",
      "\n",
      "\n",
      "\n",
      "\n",
      "Add your own comment\n",
      "\n",
      "\n",
      "\n",
      "\n",
      "\n",
      "\n",
      "\n",
      "*Name\n",
      "script_url: /scripts/First-Cow.html\n"
     ]
    }
   ],
   "source": [
    "import requests\n",
    "from bs4 import BeautifulSoup\n",
    "\n",
    "def fetch_script(movie_link):\n",
    "    response = requests.get(movie_link)\n",
    "    soup = BeautifulSoup(response.text, 'html.parser')\n",
    "    script_details = soup.find('table', class_='script-details')\n",
    "\n",
    "    # Extract the title, writers, genre, date, and script\n",
    "    movie_info = {}\n",
    "    movie_info['title'] = soup.find('title').text\n",
    "    movie_info['writers'] = [writer.text for writer in soup.find_all('a', href=lambda href: href and \"writer.php\" in href)]\n",
    "    movie_info['genre'] = [genre.text for genre in script_details.find_all('a', href=lambda href: href and \"/genre/\" in href)]\n",
    "    script_date_element = soup.find(lambda tag: tag.name == 'td' and 'Script Date :' in tag.text)\n",
    "    movie_release_date_element = soup.find(lambda tag: tag.name == 'td' and 'Movie Release Date :' in tag.text)\n",
    "    movie_info['script_date'] = script_date_element.text.split(': ')[1] if script_date_element else 'N/A'\n",
    "    movie_info['movie_release_date'] = movie_release_date_element.text.split(': ')[1] if movie_release_date_element else 'N/A'\n",
    "    script_link = script_details.find('a', href=lambda href: href and \"scripts\" in href)\n",
    "    movie_info['script_url'] = script_link['href'] if script_link else 'N/A'\n",
    "\n",
    "    return movie_info\n",
    "\n",
    "movie_link = 'https://imsdb.com/Movie%20Scripts/First%20Cow%20Script.html'\n",
    "movie_info = fetch_script(movie_link)\n",
    "for key, value in movie_info.items():\n",
    "    print(f\"{key}: {value}\")"
   ]
  },
  {
   "cell_type": "markdown",
   "id": "9b612cdc",
   "metadata": {
    "tags": [
     "exercise"
    ]
   },
   "source": [
    "__(b)__ We are interested in the genres `'Musical'`, `'Horror'`, and `'Romance'`. Craft a barplot displaying the absolute counts for each of these categories. In each bar, color-code the movies that are also counted in the other two genres. "
   ]
  },
  {
   "cell_type": "code",
   "execution_count": 25,
   "id": "b579ebfa",
   "metadata": {},
   "outputs": [
    {
     "data": {
      "image/png": "[encoded data removed]",
      "text/plain": [
       "<Figure size 640x480 with 1 Axes>"
      ]
     },
     "metadata": {},
     "output_type": "display_data"
    }
   ],
   "source": [
    "import requests\n",
    "import lxml.html as lx\n",
    "import matplotlib.pyplot as plt\n",
    "\n",
    "url = 'https://imsdb.com/alphabetical/{}'\n",
    "script_url = 'https://imsdb.com'\n",
    "genre_counts = {'Musical': 0, 'Horror': 0, 'Romance': 0}\n",
    "\n",
    "def fetch_genre(movie_link):\n",
    "    response = requests.get(movie_link)\n",
    "    html = lx.fromstring(response.content)\n",
    "    genres = html.xpath('//table[@class=\"script-details\"]//a[contains(@href, \"/genre/\")]/text()')\n",
    "    return genres\n",
    "\n",
    "link_end = ['0'] + [chr(char) for char in range(ord('a'), ord('z') + 1)]\n",
    "\n",
    "def alphabetical():\n",
    "    all_links = []\n",
    "    for character in link_end:\n",
    "        current_url = url.format(character)\n",
    "        results = requests.get(current_url)\n",
    "        html = lx.fromstring(results.content)\n",
    "        links = html.xpath('//td[@valign=\"top\"]//a/@href')\n",
    "        for link in links:\n",
    "            link = link.replace('https://imsdb.com', '').replace('http://imsdb.com', '')\n",
    "            movie = script_url + link.replace(' ', '%20')\n",
    "            all_links.append(movie)\n",
    "    return all_links\n",
    "\n",
    "links = alphabetical()\n",
    "\n",
    "for link in links:\n",
    "    genres = fetch_genre(link)\n",
    "    for genre in genres:\n",
    "        if genre in genre_counts:\n",
    "            genre_counts[genre] += 1\n",
    "\n",
    "# Plotting the barplot\n",
    "plt.bar(genre_counts.keys(), genre_counts.values())\n",
    "plt.xlabel('Genre')\n",
    "plt.ylabel('Count')\n",
    "plt.title('Count of Movies per Genre')\n",
    "plt.show()\n"
   ]
  },
  {
   "cell_type": "markdown",
   "id": "8358fa83",
   "metadata": {
    "tags": [
     "exercise"
    ]
   },
   "source": [
    "__(c, i)__ Using only regex, write a function `tokenizer` that returns bigrams of all non-whitespace and non-punctuation characters, according to the test case below: \n",
    "\n",
    "```python\n",
    "test = '''\n",
    "    Neque porro quisquam est, qui dolorem ipsum quia dolor sit amet, \n",
    "    consectetur, adipisci velit, sed quia non numquam eius modi tempora \n",
    "    incidunt ut labore et dolore magnam aliquam quaerat voluptatem.\n",
    "'''\n",
    "tokenizer(test)\n",
    ">>> ['neque porro',\n",
    " 'porro quisquam',\n",
    " 'quisquam est',\n",
    " 'qui dolorem',\n",
    " 'dolorem ipsum',\n",
    " 'ipsum quia',\n",
    " 'quia dolor',\n",
    " 'dolor sit',\n",
    " 'sit amet',\n",
    " 'adipisci velit',\n",
    " 'sed quia',\n",
    " 'quia non',\n",
    " 'non numquam',\n",
    " 'numquam eius',\n",
    " 'eius modi',\n",
    " 'modi tempora',\n",
    " 'incidunt ut',\n",
    " 'ut labore',\n",
    " 'labore et',\n",
    " 'et dolore',\n",
    " 'dolore magnam',\n",
    " 'magnam aliquam',\n",
    " 'aliquam quaerat',\n",
    " 'quaerat voluptatem']\n",
    " ```"
   ]
  },
  {
   "cell_type": "code",
   "execution_count": 23,
   "id": "8e29a21c",
   "metadata": {
    "tags": [
     "test"
    ]
   },
   "outputs": [
    {
     "data": {
      "text/plain": [
       "['Neque porro',\n",
       " 'porro quisquam',\n",
       " 'quisquam est',\n",
       " 'est qui',\n",
       " 'qui dolorem',\n",
       " 'dolorem ipsum',\n",
       " 'ipsum quia',\n",
       " 'quia dolor',\n",
       " 'dolor sit',\n",
       " 'sit amet',\n",
       " 'amet consectetur',\n",
       " 'consectetur adipisci',\n",
       " 'adipisci velit',\n",
       " 'velit sed',\n",
       " 'sed quia',\n",
       " 'quia non',\n",
       " 'non numquam',\n",
       " 'numquam eius',\n",
       " 'eius modi',\n",
       " 'modi tempora',\n",
       " 'tempora incidunt',\n",
       " 'incidunt ut',\n",
       " 'ut labore',\n",
       " 'labore et',\n",
       " 'et dolore',\n",
       " 'dolore magnam',\n",
       " 'magnam aliquam',\n",
       " 'aliquam quaerat',\n",
       " 'quaerat voluptatem']"
      ]
     },
     "execution_count": 23,
     "metadata": {},
     "output_type": "execute_result"
    }
   ],
   "source": [
    "test = '''\n",
    "    Neque porro quisquam est, qui dolorem ipsum quia dolor sit amet, \n",
    "    consectetur, adipisci velit, sed quia non numquam eius modi tempora \n",
    "    incidunt ut labore et dolore magnam aliquam quaerat voluptatem.\n",
    "'''\n",
    "import re\n",
    "\n",
    "def tokenizer(text):\n",
    "    # Find all words in the text\n",
    "    words = re.findall(r'\\b\\w+\\b', text)\n",
    "    # Create bigrams\n",
    "    bigrams = [' '.join(pair) for pair in zip(words[:-1], words[1:])]\n",
    "    return bigrams\n",
    "\n",
    "tokenizer(test)"
   ]
  },
  {
   "cell_type": "markdown",
   "id": "1241f210",
   "metadata": {
    "tags": [
     "exercise"
    ]
   },
   "source": [
    "__(ii)__ Use the tokenizer to obtain a tf-idf vector for each movie. Perform a (non-centered) principal component analysis (`sklearn.decomposition.TruncatedSVD`). _What fraction of variation is explained by the first principal component?_ __(iii)__ Generate a strip-plot for the first principal components versus all three genres. Does visualization indicate that a good classification could result from this approach? "
   ]
  },
  {
   "cell_type": "code",
   "execution_count": 27,
   "id": "88aca96c",
   "metadata": {},
   "outputs": [
    {
     "ename": "AttributeError",
     "evalue": "'NoneType' object has no attribute 'find_all'",
     "output_type": "error",
     "traceback": [
      "\u001b[1;31m---------------------------------------------------------------------------\u001b[0m",
      "\u001b[1;31mAttributeError\u001b[0m                            Traceback (most recent call last)",
      "Cell \u001b[1;32mIn[27], line 7\u001b[0m\n\u001b[0;32m      4\u001b[0m \u001b[38;5;28;01mimport\u001b[39;00m \u001b[38;5;21;01mseaborn\u001b[39;00m \u001b[38;5;28;01mas\u001b[39;00m \u001b[38;5;21;01msns\u001b[39;00m\n\u001b[0;32m      6\u001b[0m \u001b[38;5;66;03m# Assuming scripts is a list of movie scripts\u001b[39;00m\n\u001b[1;32m----> 7\u001b[0m scripts \u001b[38;5;241m=\u001b[39m [fetch_script(link)[\u001b[38;5;124m'\u001b[39m\u001b[38;5;124mscript_url\u001b[39m\u001b[38;5;124m'\u001b[39m] \u001b[38;5;28;01mfor\u001b[39;00m link \u001b[38;5;129;01min\u001b[39;00m links]\n\u001b[0;32m      9\u001b[0m \u001b[38;5;66;03m# Step 1: Tokenize the scripts and obtain a tf-idf vector for each movie\u001b[39;00m\n\u001b[0;32m     10\u001b[0m vectorizer \u001b[38;5;241m=\u001b[39m TfidfVectorizer()\n",
      "Cell \u001b[1;32mIn[27], line 7\u001b[0m, in \u001b[0;36m<listcomp>\u001b[1;34m(.0)\u001b[0m\n\u001b[0;32m      4\u001b[0m \u001b[38;5;28;01mimport\u001b[39;00m \u001b[38;5;21;01mseaborn\u001b[39;00m \u001b[38;5;28;01mas\u001b[39;00m \u001b[38;5;21;01msns\u001b[39;00m\n\u001b[0;32m      6\u001b[0m \u001b[38;5;66;03m# Assuming scripts is a list of movie scripts\u001b[39;00m\n\u001b[1;32m----> 7\u001b[0m scripts \u001b[38;5;241m=\u001b[39m [\u001b[43mfetch_script\u001b[49m\u001b[43m(\u001b[49m\u001b[43mlink\u001b[49m\u001b[43m)\u001b[49m[\u001b[38;5;124m'\u001b[39m\u001b[38;5;124mscript_url\u001b[39m\u001b[38;5;124m'\u001b[39m] \u001b[38;5;28;01mfor\u001b[39;00m link \u001b[38;5;129;01min\u001b[39;00m links]\n\u001b[0;32m      9\u001b[0m \u001b[38;5;66;03m# Step 1: Tokenize the scripts and obtain a tf-idf vector for each movie\u001b[39;00m\n\u001b[0;32m     10\u001b[0m vectorizer \u001b[38;5;241m=\u001b[39m TfidfVectorizer()\n",
      "Cell \u001b[1;32mIn[21], line 13\u001b[0m, in \u001b[0;36mfetch_script\u001b[1;34m(movie_link)\u001b[0m\n\u001b[0;32m     11\u001b[0m movie_info[\u001b[38;5;124m'\u001b[39m\u001b[38;5;124mtitle\u001b[39m\u001b[38;5;124m'\u001b[39m] \u001b[38;5;241m=\u001b[39m soup\u001b[38;5;241m.\u001b[39mfind(\u001b[38;5;124m'\u001b[39m\u001b[38;5;124mtitle\u001b[39m\u001b[38;5;124m'\u001b[39m)\u001b[38;5;241m.\u001b[39mtext\n\u001b[0;32m     12\u001b[0m movie_info[\u001b[38;5;124m'\u001b[39m\u001b[38;5;124mwriters\u001b[39m\u001b[38;5;124m'\u001b[39m] \u001b[38;5;241m=\u001b[39m [writer\u001b[38;5;241m.\u001b[39mtext \u001b[38;5;28;01mfor\u001b[39;00m writer \u001b[38;5;129;01min\u001b[39;00m soup\u001b[38;5;241m.\u001b[39mfind_all(\u001b[38;5;124m'\u001b[39m\u001b[38;5;124ma\u001b[39m\u001b[38;5;124m'\u001b[39m, href\u001b[38;5;241m=\u001b[39m\u001b[38;5;28;01mlambda\u001b[39;00m href: href \u001b[38;5;129;01mand\u001b[39;00m \u001b[38;5;124m\"\u001b[39m\u001b[38;5;124mwriter.php\u001b[39m\u001b[38;5;124m\"\u001b[39m \u001b[38;5;129;01min\u001b[39;00m href)]\n\u001b[1;32m---> 13\u001b[0m movie_info[\u001b[38;5;124m'\u001b[39m\u001b[38;5;124mgenre\u001b[39m\u001b[38;5;124m'\u001b[39m] \u001b[38;5;241m=\u001b[39m [genre\u001b[38;5;241m.\u001b[39mtext \u001b[38;5;28;01mfor\u001b[39;00m genre \u001b[38;5;129;01min\u001b[39;00m \u001b[43mscript_details\u001b[49m\u001b[38;5;241;43m.\u001b[39;49m\u001b[43mfind_all\u001b[49m(\u001b[38;5;124m'\u001b[39m\u001b[38;5;124ma\u001b[39m\u001b[38;5;124m'\u001b[39m, href\u001b[38;5;241m=\u001b[39m\u001b[38;5;28;01mlambda\u001b[39;00m href: href \u001b[38;5;129;01mand\u001b[39;00m \u001b[38;5;124m\"\u001b[39m\u001b[38;5;124m/genre/\u001b[39m\u001b[38;5;124m\"\u001b[39m \u001b[38;5;129;01min\u001b[39;00m href)]\n\u001b[0;32m     14\u001b[0m script_date_element \u001b[38;5;241m=\u001b[39m soup\u001b[38;5;241m.\u001b[39mfind(\u001b[38;5;28;01mlambda\u001b[39;00m tag: tag\u001b[38;5;241m.\u001b[39mname \u001b[38;5;241m==\u001b[39m \u001b[38;5;124m'\u001b[39m\u001b[38;5;124mtd\u001b[39m\u001b[38;5;124m'\u001b[39m \u001b[38;5;129;01mand\u001b[39;00m \u001b[38;5;124m'\u001b[39m\u001b[38;5;124mScript Date :\u001b[39m\u001b[38;5;124m'\u001b[39m \u001b[38;5;129;01min\u001b[39;00m tag\u001b[38;5;241m.\u001b[39mtext)\n\u001b[0;32m     15\u001b[0m movie_release_date_element \u001b[38;5;241m=\u001b[39m soup\u001b[38;5;241m.\u001b[39mfind(\u001b[38;5;28;01mlambda\u001b[39;00m tag: tag\u001b[38;5;241m.\u001b[39mname \u001b[38;5;241m==\u001b[39m \u001b[38;5;124m'\u001b[39m\u001b[38;5;124mtd\u001b[39m\u001b[38;5;124m'\u001b[39m \u001b[38;5;129;01mand\u001b[39;00m \u001b[38;5;124m'\u001b[39m\u001b[38;5;124mMovie Release Date :\u001b[39m\u001b[38;5;124m'\u001b[39m \u001b[38;5;129;01min\u001b[39;00m tag\u001b[38;5;241m.\u001b[39mtext)\n",
      "\u001b[1;31mAttributeError\u001b[0m: 'NoneType' object has no attribute 'find_all'"
     ]
    }
   ],
   "source": [
    "from sklearn.feature_extraction.text import TfidfVectorizer\n",
    "from sklearn.decomposition import TruncatedSVD\n",
    "import matplotlib.pyplot as plt\n",
    "import seaborn as sns\n",
    "import pandas as pd\n",
    "\n",
    "# Assuming scripts is a list of movie scripts\n",
    "scripts = [fetch_script(link)['script_url'] for link in links]\n",
    "\n",
    "# Step 1: Tokenize the scripts and obtain a tf-idf vector for each movie\n",
    "vectorizer = TfidfVectorizer()\n",
    "X = vectorizer.fit_transform(scripts)\n",
    "\n",
    "# Step 2: Perform a (non-centered) principal component analysis using TruncatedSVD\n",
    "svd = TruncatedSVD(n_components=1)\n",
    "principalComponents = svd.fit_transform(X)\n",
    "\n",
    "# Step 3: Calculate the fraction of variation explained by the first principal component\n",
    "explained_variance = svd.explained_variance_ratio_\n",
    "\n",
    "print(f\"Fraction of variation explained by the first principal component: {explained_variance[0]}\")\n",
    "\n",
    "# Step 4: Generate a strip-plot for the first principal components versus all three genres\n",
    "# Assuming genres is a list of movie genres\n",
    "genres = [fetch_script(link)['genre'] for link in links]\n",
    "\n",
    "df = pd.DataFrame({\n",
    "    'Principal Component': principalComponents.flatten(),\n",
    "    'Genre': genres\n",
    "})\n",
    "\n",
    "plt.figure(figsize=(10, 6))\n",
    "sns.stripplot(x='Genre', y='Principal Component', data=df)\n",
    "plt.title('Strip-plot for the first principal components versus all three genres')\n",
    "plt.show()"
   ]
  },
  {
   "cell_type": "code",
   "execution_count": null,
   "id": "f6917ac3",
   "metadata": {},
   "outputs": [],
   "source": [
    "import requests\n",
    "import lxml.html as lx\n",
    "from bs4 import BeautifulSoup\n",
    "\n",
    "link_end = ['0'] + [chr(char) for char in range(ord('a'), ord('z') + 1)]\n",
    "url = 'https://imsdb.com/alphebetical/{}'\n",
    "script_url = 'https://imsdb.com/Movie%20Scripts'\n",
    "all_links = []\n",
    "def alphabetical():\n",
    "    for character in link_end:\n",
    "        current_url = url.format(character)\n",
    "        results = requests.get(current_url, params=None)\n",
    "        html = lx.fromstring(results.text)\n",
    "        links = html.xpath('//td[@valign=\"top\"]//a/@href')\n",
    "        for link in links[60:]:\n",
    "            movie = script_url + link.replace(' ','%20')\n",
    "            all_links.append(movie)\n",
    "    return all_links\n",
    "\n",
    "links = alphabetical()\n",
    "for link in links:\n",
    "    print(link)\n",
    "\n",
    "def fetch_script(movie_link):\n",
    "    response = requests.get(movie_link)\n",
    "    soup = BeautifulSoup(response.text, 'html.parser')\n",
    "    script_details = soup.find('table', class_='script-details')\n",
    "\n",
    "    # Extract the title, writers, genre, date, and script\n",
    "    movie_info = {}\n",
    "    movie_info['title'] = soup.find('title').text\n",
    "    movie_info['writers'] = [writer.text for writer in soup.find_all('a', href=lambda href: href and \"writer.php\" in href)]\n",
    "    movie_info['genre'] = [genre.text for genre in script_details.find_all('a', href=lambda href: href and \"/genre/\" in href)]\n",
    "    script_date_element = soup.find(lambda tag: tag.name == 'td' and 'Script Date :' in tag.text)\n",
    "    movie_release_date_element = soup.find(lambda tag: tag.name == 'td' and 'Movie Release Date :' in tag.text)\n",
    "    movie_info['script_date'] = script_date_element.text.split(': ')[1] if script_date_element else 'N/A'\n",
    "    movie_info['movie_release_date'] = movie_release_date_element.text.split(': ')[1] if movie_release_date_element else 'N/A'\n",
    "    script_link = script_details.find('a', href=lambda href: href and \"scripts\" in href)\n",
    "    movie_info['script_url'] = script_link['href'] if script_link else 'N/A'\n",
    "\n",
    "    return movie_info\n",
    "\n",
    "movie_link = 'https://imsdb.com/Movie%20Scripts/First%20Cow%20Script.html'\n",
    "movie_info = fetch_script(movie_link)\n",
    "for key, value in movie_info.items():\n",
    "    print(f\"{key}: {value}\")"
   ]
  }
 ],
 "metadata": {
  "celltoolbar": "Tags",
  "kernelspec": {
   "display_name": "Python 3",
   "language": "python",
   "name": "python3"
  },
  "language_info": {
   "codemirror_mode": {
    "name": "ipython",
    "version": 3
   },
   "file_extension": ".py",
   "mimetype": "text/x-python",
   "name": "python",
   "nbconvert_exporter": "python",
   "pygments_lexer": "ipython3",
   "version": "3.10.11"
  }
 },
 "nbformat": 4,
 "nbformat_minor": 5
}
